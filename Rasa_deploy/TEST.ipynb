{
 "cells": [
  {
   "cell_type": "code",
   "execution_count": 6,
   "id": "3bc23f80",
   "metadata": {},
   "outputs": [],
   "source": [
    "import requests, json"
   ]
  },
  {
   "cell_type": "code",
   "execution_count": 14,
   "id": "ac744684",
   "metadata": {},
   "outputs": [],
   "source": [
    "url = \"https://runtime.sagemaker.us-east-1.amazonaws.com/endpoints/demo-endpoint/invocations\"\n",
    "payload = {'input': 'Hello'}\n",
    "headers = {'content-type': 'application/json'}"
   ]
  },
  {
   "cell_type": "code",
   "execution_count": 15,
   "id": "2c923711",
   "metadata": {},
   "outputs": [
    {
     "name": "stdout",
     "output_type": "stream",
     "text": [
      "403\n",
      "{'message': 'Missing Authentication Token'}\n"
     ]
    }
   ],
   "source": [
    "response = requests.post(url, data=json.dumps(payload), headers=headers)\n",
    "\n",
    "print(response.status_code)\n",
    "print(response.json())"
   ]
  }
 ],
 "metadata": {
  "kernelspec": {
   "display_name": "Python 3 (ipykernel)",
   "language": "python",
   "name": "python3"
  },
  "language_info": {
   "codemirror_mode": {
    "name": "ipython",
    "version": 3
   },
   "file_extension": ".py",
   "mimetype": "text/x-python",
   "name": "python",
   "nbconvert_exporter": "python",
   "pygments_lexer": "ipython3",
   "version": "3.8.10"
  }
 },
 "nbformat": 4,
 "nbformat_minor": 5
}
