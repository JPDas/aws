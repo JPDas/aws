{
 "cells": [
  {
   "cell_type": "code",
   "execution_count": null,
   "id": "318415fe",
   "metadata": {},
   "outputs": [],
   "source": [
    "import requests"
   ]
  },
  {
   "cell_type": "code",
   "execution_count": null,
   "id": "989874b8",
   "metadata": {},
   "outputs": [],
   "source": [
    "url = \"http://127.0.0.1:8080/invocations\""
   ]
  },
  {
   "cell_type": "code",
   "execution_count": null,
   "id": "47dbe966",
   "metadata": {},
   "outputs": [],
   "source": []
  }
 ],
 "metadata": {
  "kernelspec": {
   "display_name": "Python 3 (ipykernel)",
   "language": "python",
   "name": "python3"
  }
 },
 "nbformat": 4,
 "nbformat_minor": 5
}
